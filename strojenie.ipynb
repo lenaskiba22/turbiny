{
  "nbformat": 4,
  "nbformat_minor": 0,
  "metadata": {
    "colab": {
      "provenance": []
    },
    "kernelspec": {
      "name": "python3",
      "display_name": "Python 3"
    },
    "language_info": {
      "name": "python"
    }
  },
  "cells": [
    {
      "cell_type": "code",
      "source": [
        "!pip install pyscipopt"
      ],
      "metadata": {
        "colab": {
          "base_uri": "https://localhost:8080/"
        },
        "id": "FHTBPu8CObOX",
        "outputId": "ac357ff2-b5da-45f8-ad14-5eb6cdd1f108"
      },
      "execution_count": null,
      "outputs": [
        {
          "output_type": "stream",
          "name": "stdout",
          "text": [
            "Collecting pyscipopt\n",
            "  Downloading pyscipopt-5.5.0-cp311-cp311-manylinux_2_28_x86_64.whl.metadata (5.9 kB)\n",
            "Requirement already satisfied: numpy>=1.16.0 in /usr/local/lib/python3.11/dist-packages (from pyscipopt) (2.0.2)\n",
            "Downloading pyscipopt-5.5.0-cp311-cp311-manylinux_2_28_x86_64.whl (16.0 MB)\n",
            "\u001b[2K   \u001b[90m━━━━━━━━━━━━━━━━━━━━━━━━━━━━━━━━━━━━━━━━\u001b[0m \u001b[32m16.0/16.0 MB\u001b[0m \u001b[31m37.6 MB/s\u001b[0m eta \u001b[36m0:00:00\u001b[0m\n",
            "\u001b[?25hInstalling collected packages: pyscipopt\n",
            "Successfully installed pyscipopt-5.5.0\n"
          ]
        }
      ]
    },
    {
      "cell_type": "code",
      "source": [
        "import numpy as np\n",
        "import random\n",
        "from scipy.ndimage import binary_dilation\n",
        "from itertools import product\n",
        "import math"
      ],
      "metadata": {
        "id": "imLm5iyhEZOo"
      },
      "execution_count": null,
      "outputs": []
    },
    {
      "cell_type": "code",
      "source": [
        "n = 100\n",
        "KRATKA_M = 20\n",
        "D_MIN_M = 50\n",
        "BUFOR_M = 700\n",
        "DROGA_SZER_M = 5\n",
        "\n",
        "d_min = int(np.ceil(D_MIN_M / KRATKA_M))\n",
        "bufor = max(1, round(BUFOR_M / KRATKA_M))\n",
        "droga_szer = max(1, round(DROGA_SZER_M / KRATKA_M))\n",
        "\n",
        "#siatka i droga\n",
        "def dodaj_prostokat(siatka, sr, sc, wys, szer, kod=1):\n",
        "    r_start = max(0, sr - wys // 2)\n",
        "    r_end = min(n, sr + (wys + 1) // 2)\n",
        "    c_start = max(0, sc - szer // 2)\n",
        "    c_end = min(n, sc + (szer + 1) // 2)\n",
        "    siatka[r_start:r_end, c_start:c_end] = kod\n",
        "\n",
        "siatka = np.zeros((n, n))\n",
        "for i in range(n):\n",
        "    dodaj_prostokat(siatka, i, n // 2, 1, droga_szer, kod=2)\n",
        "\n",
        "#budynki\n",
        "budynki_m = [\n",
        "    ((300, 850), (120, 180)),\n",
        "    ((1600, 800), (100, 100)),\n",
        "    ((1500, 1200), (80, 120)),\n",
        "    ((1200, 1200), (90, 90)),\n",
        "    ((200, 1200), (100, 120)),\n",
        "    ((600, 800), (120, 80)),\n",
        "    ((800, 800), (100, 120)),\n",
        "    ((600, 1200), (120, 80)),\n",
        "    ((800, 1200), (100, 120)),\n",
        "]\n",
        "for (sr_m, sc_m), (wys_m, szer_m) in budynki_m:\n",
        "    sr = sr_m // KRATKA_M\n",
        "    sc = sc_m // KRATKA_M\n",
        "    wys = max(1, wys_m // KRATKA_M)\n",
        "    szer = max(1, szer_m // KRATKA_M)\n",
        "    dodaj_prostokat(siatka, sr, sc, wys, szer, kod=1)\n",
        "\n",
        "#bufor i pola dostępne\n",
        "przeszkody = (siatka != 0)\n",
        "bufor_mask = binary_dilation(przeszkody, iterations=bufor)\n",
        "puste_pola = [(i, j) for i in range(n) for j in range(n) if not bufor_mask[i, j]]\n",
        "\n",
        "#funkcje chłodzenia\n",
        "def cooling_linear(T, alpha=1):\n",
        "    return max(0.01, T - alpha)\n",
        "\n",
        "def cooling_exponential(T, beta=0.95):\n",
        "    return T * beta\n",
        "\n",
        "def cooling_reciprocal(T0, k, alpha=0.1):\n",
        "    return T0 / (1 + alpha * k)\n",
        "\n",
        "def cooling_logarithmic(T0, k, c=2):\n",
        "    return T0 / math.log(k + c)\n",
        "\n",
        "#tutaj te kratki nieszczesne\n",
        "def odleglosc_w_kratkach(p1, p2):\n",
        "    return np.hypot(p1[0] - p2[0], p1[1] - p2[1])\n",
        "\n",
        "def ocena(turbiny):\n",
        "    wynik = []\n",
        "    for t in turbiny:\n",
        "        if all(odleglosc_w_kratkach(t, istniejąca) >= d_min for istniejąca in wynik):\n",
        "            wynik.append(t)\n",
        "    return wynik\n",
        "\n",
        "#funkcja wyżarzania\n",
        "def run_sa(T0, cooling_type, m_n, puste_pola, seed=None):\n",
        "    if seed is not None:\n",
        "        random.seed(seed)\n",
        "    obecne = []\n",
        "    najlepsze = []\n",
        "    T = T0\n",
        "    epoka = 0\n",
        "    max_epok = 50\n",
        "\n",
        "\n",
        "    while T > 0.1 and epoka < max_epok:\n",
        "        for _ in range(m_n):\n",
        "            kandydat = obecne.copy()\n",
        "            if len(obecne) < 20:\n",
        "                weights = [0.8, 0.15, 0.05]\n",
        "            else:\n",
        "                weights = [0.4, 0.4, 0.2]\n",
        "\n",
        "            operacja = random.choices(['dodaj', 'zamień', 'usuń'], weights=weights, k=1)[0]\n",
        "\n",
        "            if operacja == 'dodaj' and len(kandydat) < len(puste_pola):\n",
        "                nowa = random.choice(puste_pola)\n",
        "                if all(odleglosc_w_kratkach(nowa, t) >= d_min for t in kandydat):\n",
        "                    kandydat.append(nowa)\n",
        "\n",
        "            elif operacja == 'zamień' and kandydat:\n",
        "                i = random.randint(0, len(kandydat) - 1)\n",
        "                nowa = random.choice(puste_pola)\n",
        "                if all(odleglosc_w_kratkach(nowa, t) >= d_min for j, t in enumerate(kandydat) if j != i):\n",
        "                    kandydat[i] = nowa\n",
        "\n",
        "            elif operacja == 'usuń' and kandydat:\n",
        "                i = random.randint(0, len(kandydat) - 1)\n",
        "                kandydat.pop(i)\n",
        "\n",
        "            poprawne = ocena(kandydat)\n",
        "\n",
        "            if len(poprawne) >= len(najlepsze) or random.random() < np.exp((len(poprawne) - len(obecne)) / T):\n",
        "                obecne = poprawne\n",
        "                if len(poprawne) > len(najlepsze):\n",
        "                    najlepsze = poprawne\n",
        "\n",
        "        epoka += 1\n",
        "\n",
        "\n",
        "        if cooling_type == \"lin\":\n",
        "            T = cooling_linear(T, alpha=1)\n",
        "        elif cooling_type == \"exp\":\n",
        "            T = cooling_exponential(T, beta=0.95)\n",
        "        elif cooling_type == \"rec\":\n",
        "            T = cooling_reciprocal(T0, epoka, alpha=0.1)\n",
        "        elif cooling_type == \"log\":\n",
        "            T = cooling_logarithmic(T0, epoka, c=2)\n",
        "\n",
        "    return len(najlepsze)\n",
        "\n",
        "T0_options = [250, 500, 800, 1000]\n",
        "cooling_options = [\"lin\", \"exp\", \"rec\", \"log\"]\n",
        "m_n_options = list(range(1, 11))\n",
        "\n",
        "results = []\n",
        "for T0, cooling, m_n in product(T0_options, cooling_options, m_n_options):\n",
        "    wyniki = []\n",
        "    for _ in range(10):\n",
        "        wynik = run_sa(T0, cooling, m_n, puste_pola)\n",
        "        wyniki.append(wynik)\n",
        "    avg = np.mean(wyniki)\n",
        "    results.append((T0, cooling, m_n, avg))\n",
        "\n",
        "top10 = sorted(results, key=lambda x: -x[3])[:10]\n",
        "print(\"TOP 10 konfiguracji:\")\n",
        "for i, (T0, cooling, m_n, avg) in enumerate(top10, 1):\n",
        "    print(f\"{i}. T0={T0}, chłodzenie={cooling}, m_n={m_n} → średnia liczba turbin: {avg:.2f}\")\n"
      ],
      "metadata": {
        "id": "A7hyJ1IXddYA",
        "colab": {
          "base_uri": "https://localhost:8080/"
        },
        "outputId": "700eece0-48d5-46ec-84a9-a43d3c70ccf7"
      },
      "execution_count": null,
      "outputs": [
        {
          "output_type": "stream",
          "name": "stdout",
          "text": [
            "TOP 10 konfiguracji:\n",
            "1. T0=1000, chłodzenie=log, m_n=10 → średnia liczba turbin: 48.90\n",
            "2. T0=250, chłodzenie=log, m_n=10 → średnia liczba turbin: 48.10\n",
            "3. T0=500, chłodzenie=exp, m_n=10 → średnia liczba turbin: 48.00\n",
            "4. T0=500, chłodzenie=log, m_n=10 → średnia liczba turbin: 48.00\n",
            "5. T0=1000, chłodzenie=rec, m_n=10 → średnia liczba turbin: 47.10\n",
            "6. T0=800, chłodzenie=exp, m_n=10 → średnia liczba turbin: 47.00\n",
            "7. T0=250, chłodzenie=rec, m_n=10 → średnia liczba turbin: 46.70\n",
            "8. T0=250, chłodzenie=exp, m_n=10 → średnia liczba turbin: 46.50\n",
            "9. T0=1000, chłodzenie=exp, m_n=10 → średnia liczba turbin: 46.50\n",
            "10. T0=250, chłodzenie=log, m_n=9 → średnia liczba turbin: 45.80\n"
          ]
        }
      ]
    },
    {
      "cell_type": "code",
      "source": [],
      "metadata": {
        "id": "Rgn3MoSXc4kp"
      },
      "execution_count": null,
      "outputs": []
    }
  ]
}
